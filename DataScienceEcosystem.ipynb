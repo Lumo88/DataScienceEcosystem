{
 "cells": [
  {
   "cell_type": "markdown",
   "id": "ce57c2b4-a23a-48ba-9a05-b367bc5b7f03",
   "metadata": {},
   "source": [
    "# Data Science Tools and Ecosystem"
   ]
  },
  {
   "cell_type": "markdown",
   "id": "75a6cddf-d9eb-441f-854f-0311e3277e6a",
   "metadata": {},
   "source": [
    "In this notebook, Data Science Tools and Ecosystem are summarized."
   ]
  },
  {
   "cell_type": "markdown",
   "id": "2f51a767-da4e-4559-99e7-ff9bf3a12d58",
   "metadata": {},
   "source": [
    "**Objetives:**\n",
    "- List popular languages for Data Science\n",
    "- Create a Jupyter notebook with markdown and code cells.\n",
    "- Identify the criteria and functions to determine the language you need to learn in order to become a Data Scientist.\n",
    "- Define SQL elements and list their advantages."
   ]
  },
  {
   "cell_type": "markdown",
   "id": "9a03c356-58fa-4d09-9f92-4810acff12e0",
   "metadata": {},
   "source": [
    "Some of the popular languages that Data Scientists use are:"
   ]
  },
  {
   "cell_type": "markdown",
   "id": "097d831b-a70b-4ce8-8f64-09f7ce8b28d5",
   "metadata": {},
   "source": [
    "1. Phyton\n",
    "2. R\n",
    "3. SQL\n",
    "4. Julia\n",
    "5. Java\n",
    "6. Scala"
   ]
  },
  {
   "cell_type": "markdown",
   "id": "84516a74-5008-47fb-8c98-7495a747c72d",
   "metadata": {},
   "source": [
    "Some of the commonly used libraries used by Data Scientists include:"
   ]
  },
  {
   "cell_type": "markdown",
   "id": "6c274540-0011-4e6a-a204-5cd9943fa742",
   "metadata": {},
   "source": [
    "1. Pandas\n",
    "2. NumPy \n",
    "3. Scikit-learn \n",
    "4. Matplotlib "
   ]
  },
  {
   "cell_type": "markdown",
   "id": "1dc890df-24bd-4ed7-952c-a7f356f2b062",
   "metadata": {},
   "source": [
    "| Data Science Tools |\n",
    "| -------------------------------- |\n",
    "| Anaconda |\n",
    "| TensorFlow |\n",
    "| Keras |\n"
   ]
  },
  {
   "cell_type": "markdown",
   "id": "580ac809-d4f8-415b-91b8-43a6db0594ea",
   "metadata": {},
   "source": [
    "### Below are a few examples of evaluating arithmetic expressions in Python"
   ]
  },
  {
   "cell_type": "code",
   "execution_count": 3,
   "id": "7d2c083c-02b0-49e1-a07b-ac284e78b0ab",
   "metadata": {},
   "outputs": [
    {
     "data": {
      "text/plain": [
       "17"
      ]
     },
     "execution_count": 3,
     "metadata": {},
     "output_type": "execute_result"
    }
   ],
   "source": [
    "#This a simple arithmetic expression to mutiply then add integers\n",
    "(3*4)+5\n"
   ]
  },
  {
   "cell_type": "code",
   "execution_count": 4,
   "id": "b51155c9-52ca-427c-8b4d-d56ed9754cff",
   "metadata": {},
   "outputs": [
    {
     "data": {
      "text/plain": [
       "3.3333333333333335"
      ]
     },
     "execution_count": 4,
     "metadata": {},
     "output_type": "execute_result"
    }
   ],
   "source": [
    "#This will convert 200 minutes to hours by diving by 60.\n",
    "200/60"
   ]
  },
  {
   "cell_type": "markdown",
   "id": "25a2c265-00a3-47fd-925f-eee5b11ce85c",
   "metadata": {},
   "source": [
    "## Author\n",
    "Lourdes"
   ]
  },
  {
   "cell_type": "code",
   "execution_count": null,
   "id": "3ef12490-833e-4dad-91d2-d5395b1389d9",
   "metadata": {},
   "outputs": [],
   "source": []
  }
 ],
 "metadata": {
  "kernelspec": {
   "display_name": "Python 3 (ipykernel)",
   "language": "python",
   "name": "python3"
  },
  "language_info": {
   "codemirror_mode": {
    "name": "ipython",
    "version": 3
   },
   "file_extension": ".py",
   "mimetype": "text/x-python",
   "name": "python",
   "nbconvert_exporter": "python",
   "pygments_lexer": "ipython3",
   "version": "3.13.5"
  }
 },
 "nbformat": 4,
 "nbformat_minor": 5
}
